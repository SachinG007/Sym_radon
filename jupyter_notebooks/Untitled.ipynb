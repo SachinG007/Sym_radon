{
 "cells": [
  {
   "cell_type": "code",
   "execution_count": 1,
   "metadata": {},
   "outputs": [],
   "source": [
    "import numpy as np\n",
    "import cv2\n",
    "from matplotlib import pyplot as plt\n",
    "\n",
    "img = cv2.imread('women2.png',0)\n"
   ]
  },
  {
   "cell_type": "code",
   "execution_count": 4,
   "metadata": {},
   "outputs": [],
   "source": [
    "\n",
    "# Initiate STAR detector\n",
    "orb = cv2.ORB_create()\n",
    "\n",
    "# find the keypoints with ORB\n",
    "kp = orb.detect(img,None)\n",
    "\n",
    "# compute the descriptors with ORB\n",
    "kp, des = orb.compute(img, kp)\n",
    "\n",
    "# draw only keypoints location,not size and orientation\n",
    "# img2 = cv2.drawKeypoints(img,kp,color=(0,255,0), flags=0)\n",
    "# plt.imshow(img2),plt.show()\n"
   ]
  },
  {
   "cell_type": "code",
   "execution_count": 5,
   "metadata": {},
   "outputs": [
    {
     "data": {
      "text/plain": [
       "[]"
      ]
     },
     "execution_count": 5,
     "metadata": {},
     "output_type": "execute_result"
    }
   ],
   "source": [
    "kp\n"
   ]
  },
  {
   "cell_type": "code",
   "execution_count": 8,
   "metadata": {},
   "outputs": [],
   "source": [
    "for i in range(len(kp)):\n",
    "    print(kp[i].pt)"
   ]
  },
  {
   "cell_type": "code",
   "execution_count": null,
   "metadata": {},
   "outputs": [],
   "source": [
    "b = sinogram1[:,0]\n",
    "conv_sz = [7,11]\n",
    "ans = np.zeros(np.shape(b)[0])\n",
    "for i in range(len(conv_sz)):\n",
    "    for j in range(int(conv_sz[i]/2)):\n",
    "        vec = np.zeros(conv_sz[i])\n",
    "        vec[j] = 1 + j\n",
    "        vec[conv_sz[i] - 1 -j] = -1-j\n",
    "        ans = np.add(ans, abs(np.convolve(vec,b,mode='same')))\n",
    "    #restrict to center\n",
    "#     ans_m = ans[30:60]\n",
    "#     center = np.argmin(ans_m) + 30\n",
    "#     min_val = min(ans_m)\n",
    "# #     if center < 100:# or center < 200:\n",
    "# #         min_val = min_val + 10000000\n",
    "        \n",
    "#     min_angles.append(min_val/len(conv_sz))"
   ]
  }
 ],
 "metadata": {
  "kernelspec": {
   "display_name": "Python 3",
   "language": "python",
   "name": "python3"
  },
  "language_info": {
   "codemirror_mode": {
    "name": "ipython",
    "version": 3
   },
   "file_extension": ".py",
   "mimetype": "text/x-python",
   "name": "python",
   "nbconvert_exporter": "python",
   "pygments_lexer": "ipython3",
   "version": "3.7.1"
  }
 },
 "nbformat": 4,
 "nbformat_minor": 2
}
